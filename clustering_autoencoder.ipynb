{
  "nbformat": 4,
  "nbformat_minor": 0,
  "metadata": {
    "accelerator": "GPU",
    "colab": {
      "name": "autoencoder_pytorch_batchN.ipynb",
      "provenance": [],
      "collapsed_sections": []
    },
    "kernelspec": {
      "display_name": "Python 3",
      "language": "python",
      "name": "python3"
    },
    "language_info": {
      "codemirror_mode": {
        "name": "ipython",
        "version": 3
      },
      "file_extension": ".py",
      "mimetype": "text/x-python",
      "name": "python",
      "nbconvert_exporter": "python",
      "pygments_lexer": "ipython3",
      "version": "3.7.5"
    },
    "widgets": {
      "application/vnd.jupyter.widget-state+json": {
        "cb83395713004a719fad56bb0ed90612": {
          "model_module": "@jupyter-widgets/controls",
          "model_name": "HBoxModel",
          "state": {
            "_view_name": "HBoxView",
            "_dom_classes": [],
            "_model_name": "HBoxModel",
            "_view_module": "@jupyter-widgets/controls",
            "_model_module_version": "1.5.0",
            "_view_count": null,
            "_view_module_version": "1.5.0",
            "box_style": "",
            "layout": "IPY_MODEL_3db9e9298e084540a11c537cbf273e86",
            "_model_module": "@jupyter-widgets/controls",
            "children": [
              "IPY_MODEL_c37dca1647bb4afbafc94fbfcd7c1b1b",
              "IPY_MODEL_f6ccb57beb6a4dad9145693f97fdc4fa"
            ]
          }
        },
        "3db9e9298e084540a11c537cbf273e86": {
          "model_module": "@jupyter-widgets/base",
          "model_name": "LayoutModel",
          "state": {
            "_view_name": "LayoutView",
            "grid_template_rows": null,
            "right": null,
            "justify_content": null,
            "_view_module": "@jupyter-widgets/base",
            "overflow": null,
            "_model_module_version": "1.2.0",
            "_view_count": null,
            "flex_flow": null,
            "width": null,
            "min_width": null,
            "border": null,
            "align_items": null,
            "bottom": null,
            "_model_module": "@jupyter-widgets/base",
            "top": null,
            "grid_column": null,
            "overflow_y": null,
            "overflow_x": null,
            "grid_auto_flow": null,
            "grid_area": null,
            "grid_template_columns": null,
            "flex": null,
            "_model_name": "LayoutModel",
            "justify_items": null,
            "grid_row": null,
            "max_height": null,
            "align_content": null,
            "visibility": null,
            "align_self": null,
            "height": null,
            "min_height": null,
            "padding": null,
            "grid_auto_rows": null,
            "grid_gap": null,
            "max_width": null,
            "order": null,
            "_view_module_version": "1.2.0",
            "grid_template_areas": null,
            "object_position": null,
            "object_fit": null,
            "grid_auto_columns": null,
            "margin": null,
            "display": null,
            "left": null
          }
        },
        "c37dca1647bb4afbafc94fbfcd7c1b1b": {
          "model_module": "@jupyter-widgets/controls",
          "model_name": "FloatProgressModel",
          "state": {
            "_view_name": "ProgressView",
            "style": "IPY_MODEL_3ca627c774a44149a2b02f545150ef92",
            "_dom_classes": [],
            "description": "",
            "_model_name": "FloatProgressModel",
            "bar_style": "success",
            "max": 1,
            "_view_module": "@jupyter-widgets/controls",
            "_model_module_version": "1.5.0",
            "value": 1,
            "_view_count": null,
            "_view_module_version": "1.5.0",
            "orientation": "horizontal",
            "min": 0,
            "description_tooltip": null,
            "_model_module": "@jupyter-widgets/controls",
            "layout": "IPY_MODEL_d097a57c27254b1eb11052cfc58abf22"
          }
        },
        "f6ccb57beb6a4dad9145693f97fdc4fa": {
          "model_module": "@jupyter-widgets/controls",
          "model_name": "HTMLModel",
          "state": {
            "_view_name": "HTMLView",
            "style": "IPY_MODEL_d9b36b8c0c964949a97b321500fd4a0e",
            "_dom_classes": [],
            "description": "",
            "_model_name": "HTMLModel",
            "placeholder": "​",
            "_view_module": "@jupyter-widgets/controls",
            "_model_module_version": "1.5.0",
            "value": " 9920512/? [00:00&lt;00:00, 15509180.78it/s]",
            "_view_count": null,
            "_view_module_version": "1.5.0",
            "description_tooltip": null,
            "_model_module": "@jupyter-widgets/controls",
            "layout": "IPY_MODEL_d5846eb73c92476b9b6097a90fc85d27"
          }
        },
        "3ca627c774a44149a2b02f545150ef92": {
          "model_module": "@jupyter-widgets/controls",
          "model_name": "ProgressStyleModel",
          "state": {
            "_view_name": "StyleView",
            "_model_name": "ProgressStyleModel",
            "description_width": "initial",
            "_view_module": "@jupyter-widgets/base",
            "_model_module_version": "1.5.0",
            "_view_count": null,
            "_view_module_version": "1.2.0",
            "bar_color": null,
            "_model_module": "@jupyter-widgets/controls"
          }
        },
        "d097a57c27254b1eb11052cfc58abf22": {
          "model_module": "@jupyter-widgets/base",
          "model_name": "LayoutModel",
          "state": {
            "_view_name": "LayoutView",
            "grid_template_rows": null,
            "right": null,
            "justify_content": null,
            "_view_module": "@jupyter-widgets/base",
            "overflow": null,
            "_model_module_version": "1.2.0",
            "_view_count": null,
            "flex_flow": null,
            "width": null,
            "min_width": null,
            "border": null,
            "align_items": null,
            "bottom": null,
            "_model_module": "@jupyter-widgets/base",
            "top": null,
            "grid_column": null,
            "overflow_y": null,
            "overflow_x": null,
            "grid_auto_flow": null,
            "grid_area": null,
            "grid_template_columns": null,
            "flex": null,
            "_model_name": "LayoutModel",
            "justify_items": null,
            "grid_row": null,
            "max_height": null,
            "align_content": null,
            "visibility": null,
            "align_self": null,
            "height": null,
            "min_height": null,
            "padding": null,
            "grid_auto_rows": null,
            "grid_gap": null,
            "max_width": null,
            "order": null,
            "_view_module_version": "1.2.0",
            "grid_template_areas": null,
            "object_position": null,
            "object_fit": null,
            "grid_auto_columns": null,
            "margin": null,
            "display": null,
            "left": null
          }
        },
        "d9b36b8c0c964949a97b321500fd4a0e": {
          "model_module": "@jupyter-widgets/controls",
          "model_name": "DescriptionStyleModel",
          "state": {
            "_view_name": "StyleView",
            "_model_name": "DescriptionStyleModel",
            "description_width": "",
            "_view_module": "@jupyter-widgets/base",
            "_model_module_version": "1.5.0",
            "_view_count": null,
            "_view_module_version": "1.2.0",
            "_model_module": "@jupyter-widgets/controls"
          }
        },
        "d5846eb73c92476b9b6097a90fc85d27": {
          "model_module": "@jupyter-widgets/base",
          "model_name": "LayoutModel",
          "state": {
            "_view_name": "LayoutView",
            "grid_template_rows": null,
            "right": null,
            "justify_content": null,
            "_view_module": "@jupyter-widgets/base",
            "overflow": null,
            "_model_module_version": "1.2.0",
            "_view_count": null,
            "flex_flow": null,
            "width": null,
            "min_width": null,
            "border": null,
            "align_items": null,
            "bottom": null,
            "_model_module": "@jupyter-widgets/base",
            "top": null,
            "grid_column": null,
            "overflow_y": null,
            "overflow_x": null,
            "grid_auto_flow": null,
            "grid_area": null,
            "grid_template_columns": null,
            "flex": null,
            "_model_name": "LayoutModel",
            "justify_items": null,
            "grid_row": null,
            "max_height": null,
            "align_content": null,
            "visibility": null,
            "align_self": null,
            "height": null,
            "min_height": null,
            "padding": null,
            "grid_auto_rows": null,
            "grid_gap": null,
            "max_width": null,
            "order": null,
            "_view_module_version": "1.2.0",
            "grid_template_areas": null,
            "object_position": null,
            "object_fit": null,
            "grid_auto_columns": null,
            "margin": null,
            "display": null,
            "left": null
          }
        },
        "3ef90837e5a142bda2509a20d877ed7e": {
          "model_module": "@jupyter-widgets/controls",
          "model_name": "HBoxModel",
          "state": {
            "_view_name": "HBoxView",
            "_dom_classes": [],
            "_model_name": "HBoxModel",
            "_view_module": "@jupyter-widgets/controls",
            "_model_module_version": "1.5.0",
            "_view_count": null,
            "_view_module_version": "1.5.0",
            "box_style": "",
            "layout": "IPY_MODEL_1513d976d47f4a37815564e6191550b8",
            "_model_module": "@jupyter-widgets/controls",
            "children": [
              "IPY_MODEL_75d15e3e93804ae0a97323135b4a9b96",
              "IPY_MODEL_b46a716ccc5f4694a5093b0b5ccce980"
            ]
          }
        },
        "1513d976d47f4a37815564e6191550b8": {
          "model_module": "@jupyter-widgets/base",
          "model_name": "LayoutModel",
          "state": {
            "_view_name": "LayoutView",
            "grid_template_rows": null,
            "right": null,
            "justify_content": null,
            "_view_module": "@jupyter-widgets/base",
            "overflow": null,
            "_model_module_version": "1.2.0",
            "_view_count": null,
            "flex_flow": null,
            "width": null,
            "min_width": null,
            "border": null,
            "align_items": null,
            "bottom": null,
            "_model_module": "@jupyter-widgets/base",
            "top": null,
            "grid_column": null,
            "overflow_y": null,
            "overflow_x": null,
            "grid_auto_flow": null,
            "grid_area": null,
            "grid_template_columns": null,
            "flex": null,
            "_model_name": "LayoutModel",
            "justify_items": null,
            "grid_row": null,
            "max_height": null,
            "align_content": null,
            "visibility": null,
            "align_self": null,
            "height": null,
            "min_height": null,
            "padding": null,
            "grid_auto_rows": null,
            "grid_gap": null,
            "max_width": null,
            "order": null,
            "_view_module_version": "1.2.0",
            "grid_template_areas": null,
            "object_position": null,
            "object_fit": null,
            "grid_auto_columns": null,
            "margin": null,
            "display": null,
            "left": null
          }
        },
        "75d15e3e93804ae0a97323135b4a9b96": {
          "model_module": "@jupyter-widgets/controls",
          "model_name": "FloatProgressModel",
          "state": {
            "_view_name": "ProgressView",
            "style": "IPY_MODEL_546ea277a8914c4ca2a8235d2025984b",
            "_dom_classes": [],
            "description": "",
            "_model_name": "FloatProgressModel",
            "bar_style": "success",
            "max": 1,
            "_view_module": "@jupyter-widgets/controls",
            "_model_module_version": "1.5.0",
            "value": 1,
            "_view_count": null,
            "_view_module_version": "1.5.0",
            "orientation": "horizontal",
            "min": 0,
            "description_tooltip": null,
            "_model_module": "@jupyter-widgets/controls",
            "layout": "IPY_MODEL_16d3355fa527488cbd5b5bb232a4e26c"
          }
        },
        "b46a716ccc5f4694a5093b0b5ccce980": {
          "model_module": "@jupyter-widgets/controls",
          "model_name": "HTMLModel",
          "state": {
            "_view_name": "HTMLView",
            "style": "IPY_MODEL_33ea6a25b43f47cabe8fa4e8e9fad3d8",
            "_dom_classes": [],
            "description": "",
            "_model_name": "HTMLModel",
            "placeholder": "​",
            "_view_module": "@jupyter-widgets/controls",
            "_model_module_version": "1.5.0",
            "value": " 32768/? [00:00&lt;00:00, 55197.72it/s]",
            "_view_count": null,
            "_view_module_version": "1.5.0",
            "description_tooltip": null,
            "_model_module": "@jupyter-widgets/controls",
            "layout": "IPY_MODEL_4eca4c68a29d40de8c6c361184ae7a6b"
          }
        },
        "546ea277a8914c4ca2a8235d2025984b": {
          "model_module": "@jupyter-widgets/controls",
          "model_name": "ProgressStyleModel",
          "state": {
            "_view_name": "StyleView",
            "_model_name": "ProgressStyleModel",
            "description_width": "initial",
            "_view_module": "@jupyter-widgets/base",
            "_model_module_version": "1.5.0",
            "_view_count": null,
            "_view_module_version": "1.2.0",
            "bar_color": null,
            "_model_module": "@jupyter-widgets/controls"
          }
        },
        "16d3355fa527488cbd5b5bb232a4e26c": {
          "model_module": "@jupyter-widgets/base",
          "model_name": "LayoutModel",
          "state": {
            "_view_name": "LayoutView",
            "grid_template_rows": null,
            "right": null,
            "justify_content": null,
            "_view_module": "@jupyter-widgets/base",
            "overflow": null,
            "_model_module_version": "1.2.0",
            "_view_count": null,
            "flex_flow": null,
            "width": null,
            "min_width": null,
            "border": null,
            "align_items": null,
            "bottom": null,
            "_model_module": "@jupyter-widgets/base",
            "top": null,
            "grid_column": null,
            "overflow_y": null,
            "overflow_x": null,
            "grid_auto_flow": null,
            "grid_area": null,
            "grid_template_columns": null,
            "flex": null,
            "_model_name": "LayoutModel",
            "justify_items": null,
            "grid_row": null,
            "max_height": null,
            "align_content": null,
            "visibility": null,
            "align_self": null,
            "height": null,
            "min_height": null,
            "padding": null,
            "grid_auto_rows": null,
            "grid_gap": null,
            "max_width": null,
            "order": null,
            "_view_module_version": "1.2.0",
            "grid_template_areas": null,
            "object_position": null,
            "object_fit": null,
            "grid_auto_columns": null,
            "margin": null,
            "display": null,
            "left": null
          }
        },
        "33ea6a25b43f47cabe8fa4e8e9fad3d8": {
          "model_module": "@jupyter-widgets/controls",
          "model_name": "DescriptionStyleModel",
          "state": {
            "_view_name": "StyleView",
            "_model_name": "DescriptionStyleModel",
            "description_width": "",
            "_view_module": "@jupyter-widgets/base",
            "_model_module_version": "1.5.0",
            "_view_count": null,
            "_view_module_version": "1.2.0",
            "_model_module": "@jupyter-widgets/controls"
          }
        },
        "4eca4c68a29d40de8c6c361184ae7a6b": {
          "model_module": "@jupyter-widgets/base",
          "model_name": "LayoutModel",
          "state": {
            "_view_name": "LayoutView",
            "grid_template_rows": null,
            "right": null,
            "justify_content": null,
            "_view_module": "@jupyter-widgets/base",
            "overflow": null,
            "_model_module_version": "1.2.0",
            "_view_count": null,
            "flex_flow": null,
            "width": null,
            "min_width": null,
            "border": null,
            "align_items": null,
            "bottom": null,
            "_model_module": "@jupyter-widgets/base",
            "top": null,
            "grid_column": null,
            "overflow_y": null,
            "overflow_x": null,
            "grid_auto_flow": null,
            "grid_area": null,
            "grid_template_columns": null,
            "flex": null,
            "_model_name": "LayoutModel",
            "justify_items": null,
            "grid_row": null,
            "max_height": null,
            "align_content": null,
            "visibility": null,
            "align_self": null,
            "height": null,
            "min_height": null,
            "padding": null,
            "grid_auto_rows": null,
            "grid_gap": null,
            "max_width": null,
            "order": null,
            "_view_module_version": "1.2.0",
            "grid_template_areas": null,
            "object_position": null,
            "object_fit": null,
            "grid_auto_columns": null,
            "margin": null,
            "display": null,
            "left": null
          }
        },
        "70fb60587c094696a0c16b7b8e30267a": {
          "model_module": "@jupyter-widgets/controls",
          "model_name": "HBoxModel",
          "state": {
            "_view_name": "HBoxView",
            "_dom_classes": [],
            "_model_name": "HBoxModel",
            "_view_module": "@jupyter-widgets/controls",
            "_model_module_version": "1.5.0",
            "_view_count": null,
            "_view_module_version": "1.5.0",
            "box_style": "",
            "layout": "IPY_MODEL_b40e7526c93c46caaef3fe75db690085",
            "_model_module": "@jupyter-widgets/controls",
            "children": [
              "IPY_MODEL_933e9abc6d2946bc8790c5faadd501fd",
              "IPY_MODEL_a0fbd83484184f568e31fc9b86a9a924"
            ]
          }
        },
        "b40e7526c93c46caaef3fe75db690085": {
          "model_module": "@jupyter-widgets/base",
          "model_name": "LayoutModel",
          "state": {
            "_view_name": "LayoutView",
            "grid_template_rows": null,
            "right": null,
            "justify_content": null,
            "_view_module": "@jupyter-widgets/base",
            "overflow": null,
            "_model_module_version": "1.2.0",
            "_view_count": null,
            "flex_flow": null,
            "width": null,
            "min_width": null,
            "border": null,
            "align_items": null,
            "bottom": null,
            "_model_module": "@jupyter-widgets/base",
            "top": null,
            "grid_column": null,
            "overflow_y": null,
            "overflow_x": null,
            "grid_auto_flow": null,
            "grid_area": null,
            "grid_template_columns": null,
            "flex": null,
            "_model_name": "LayoutModel",
            "justify_items": null,
            "grid_row": null,
            "max_height": null,
            "align_content": null,
            "visibility": null,
            "align_self": null,
            "height": null,
            "min_height": null,
            "padding": null,
            "grid_auto_rows": null,
            "grid_gap": null,
            "max_width": null,
            "order": null,
            "_view_module_version": "1.2.0",
            "grid_template_areas": null,
            "object_position": null,
            "object_fit": null,
            "grid_auto_columns": null,
            "margin": null,
            "display": null,
            "left": null
          }
        },
        "933e9abc6d2946bc8790c5faadd501fd": {
          "model_module": "@jupyter-widgets/controls",
          "model_name": "FloatProgressModel",
          "state": {
            "_view_name": "ProgressView",
            "style": "IPY_MODEL_d1566ad4cd6f4a3fa6c18e430902d9ca",
            "_dom_classes": [],
            "description": "",
            "_model_name": "FloatProgressModel",
            "bar_style": "success",
            "max": 1,
            "_view_module": "@jupyter-widgets/controls",
            "_model_module_version": "1.5.0",
            "value": 1,
            "_view_count": null,
            "_view_module_version": "1.5.0",
            "orientation": "horizontal",
            "min": 0,
            "description_tooltip": null,
            "_model_module": "@jupyter-widgets/controls",
            "layout": "IPY_MODEL_f7a8bcc6087e4e24a170b57b996f566a"
          }
        },
        "a0fbd83484184f568e31fc9b86a9a924": {
          "model_module": "@jupyter-widgets/controls",
          "model_name": "HTMLModel",
          "state": {
            "_view_name": "HTMLView",
            "style": "IPY_MODEL_4b3dd22dd6ed42eb89aa396ed46284cf",
            "_dom_classes": [],
            "description": "",
            "_model_name": "HTMLModel",
            "placeholder": "​",
            "_view_module": "@jupyter-widgets/controls",
            "_model_module_version": "1.5.0",
            "value": " 1654784/? [00:00&lt;00:00, 3264102.67it/s]",
            "_view_count": null,
            "_view_module_version": "1.5.0",
            "description_tooltip": null,
            "_model_module": "@jupyter-widgets/controls",
            "layout": "IPY_MODEL_d66e7e9f1165497c84d01636c1f0dd7b"
          }
        },
        "d1566ad4cd6f4a3fa6c18e430902d9ca": {
          "model_module": "@jupyter-widgets/controls",
          "model_name": "ProgressStyleModel",
          "state": {
            "_view_name": "StyleView",
            "_model_name": "ProgressStyleModel",
            "description_width": "initial",
            "_view_module": "@jupyter-widgets/base",
            "_model_module_version": "1.5.0",
            "_view_count": null,
            "_view_module_version": "1.2.0",
            "bar_color": null,
            "_model_module": "@jupyter-widgets/controls"
          }
        },
        "f7a8bcc6087e4e24a170b57b996f566a": {
          "model_module": "@jupyter-widgets/base",
          "model_name": "LayoutModel",
          "state": {
            "_view_name": "LayoutView",
            "grid_template_rows": null,
            "right": null,
            "justify_content": null,
            "_view_module": "@jupyter-widgets/base",
            "overflow": null,
            "_model_module_version": "1.2.0",
            "_view_count": null,
            "flex_flow": null,
            "width": null,
            "min_width": null,
            "border": null,
            "align_items": null,
            "bottom": null,
            "_model_module": "@jupyter-widgets/base",
            "top": null,
            "grid_column": null,
            "overflow_y": null,
            "overflow_x": null,
            "grid_auto_flow": null,
            "grid_area": null,
            "grid_template_columns": null,
            "flex": null,
            "_model_name": "LayoutModel",
            "justify_items": null,
            "grid_row": null,
            "max_height": null,
            "align_content": null,
            "visibility": null,
            "align_self": null,
            "height": null,
            "min_height": null,
            "padding": null,
            "grid_auto_rows": null,
            "grid_gap": null,
            "max_width": null,
            "order": null,
            "_view_module_version": "1.2.0",
            "grid_template_areas": null,
            "object_position": null,
            "object_fit": null,
            "grid_auto_columns": null,
            "margin": null,
            "display": null,
            "left": null
          }
        },
        "4b3dd22dd6ed42eb89aa396ed46284cf": {
          "model_module": "@jupyter-widgets/controls",
          "model_name": "DescriptionStyleModel",
          "state": {
            "_view_name": "StyleView",
            "_model_name": "DescriptionStyleModel",
            "description_width": "",
            "_view_module": "@jupyter-widgets/base",
            "_model_module_version": "1.5.0",
            "_view_count": null,
            "_view_module_version": "1.2.0",
            "_model_module": "@jupyter-widgets/controls"
          }
        },
        "d66e7e9f1165497c84d01636c1f0dd7b": {
          "model_module": "@jupyter-widgets/base",
          "model_name": "LayoutModel",
          "state": {
            "_view_name": "LayoutView",
            "grid_template_rows": null,
            "right": null,
            "justify_content": null,
            "_view_module": "@jupyter-widgets/base",
            "overflow": null,
            "_model_module_version": "1.2.0",
            "_view_count": null,
            "flex_flow": null,
            "width": null,
            "min_width": null,
            "border": null,
            "align_items": null,
            "bottom": null,
            "_model_module": "@jupyter-widgets/base",
            "top": null,
            "grid_column": null,
            "overflow_y": null,
            "overflow_x": null,
            "grid_auto_flow": null,
            "grid_area": null,
            "grid_template_columns": null,
            "flex": null,
            "_model_name": "LayoutModel",
            "justify_items": null,
            "grid_row": null,
            "max_height": null,
            "align_content": null,
            "visibility": null,
            "align_self": null,
            "height": null,
            "min_height": null,
            "padding": null,
            "grid_auto_rows": null,
            "grid_gap": null,
            "max_width": null,
            "order": null,
            "_view_module_version": "1.2.0",
            "grid_template_areas": null,
            "object_position": null,
            "object_fit": null,
            "grid_auto_columns": null,
            "margin": null,
            "display": null,
            "left": null
          }
        },
        "f4a82b21aa7f433abf541599738650a7": {
          "model_module": "@jupyter-widgets/controls",
          "model_name": "HBoxModel",
          "state": {
            "_view_name": "HBoxView",
            "_dom_classes": [],
            "_model_name": "HBoxModel",
            "_view_module": "@jupyter-widgets/controls",
            "_model_module_version": "1.5.0",
            "_view_count": null,
            "_view_module_version": "1.5.0",
            "box_style": "",
            "layout": "IPY_MODEL_f089e3492fb14ff7a25aa895cb4359b0",
            "_model_module": "@jupyter-widgets/controls",
            "children": [
              "IPY_MODEL_8a55faddea9a44458767e42acad960b6",
              "IPY_MODEL_7e6475e4435f4a9694a04a4a3ca737f3"
            ]
          }
        },
        "f089e3492fb14ff7a25aa895cb4359b0": {
          "model_module": "@jupyter-widgets/base",
          "model_name": "LayoutModel",
          "state": {
            "_view_name": "LayoutView",
            "grid_template_rows": null,
            "right": null,
            "justify_content": null,
            "_view_module": "@jupyter-widgets/base",
            "overflow": null,
            "_model_module_version": "1.2.0",
            "_view_count": null,
            "flex_flow": null,
            "width": null,
            "min_width": null,
            "border": null,
            "align_items": null,
            "bottom": null,
            "_model_module": "@jupyter-widgets/base",
            "top": null,
            "grid_column": null,
            "overflow_y": null,
            "overflow_x": null,
            "grid_auto_flow": null,
            "grid_area": null,
            "grid_template_columns": null,
            "flex": null,
            "_model_name": "LayoutModel",
            "justify_items": null,
            "grid_row": null,
            "max_height": null,
            "align_content": null,
            "visibility": null,
            "align_self": null,
            "height": null,
            "min_height": null,
            "padding": null,
            "grid_auto_rows": null,
            "grid_gap": null,
            "max_width": null,
            "order": null,
            "_view_module_version": "1.2.0",
            "grid_template_areas": null,
            "object_position": null,
            "object_fit": null,
            "grid_auto_columns": null,
            "margin": null,
            "display": null,
            "left": null
          }
        },
        "8a55faddea9a44458767e42acad960b6": {
          "model_module": "@jupyter-widgets/controls",
          "model_name": "FloatProgressModel",
          "state": {
            "_view_name": "ProgressView",
            "style": "IPY_MODEL_7b79df1894ac4983b71a36bbe8d2d12d",
            "_dom_classes": [],
            "description": "",
            "_model_name": "FloatProgressModel",
            "bar_style": "success",
            "max": 1,
            "_view_module": "@jupyter-widgets/controls",
            "_model_module_version": "1.5.0",
            "value": 1,
            "_view_count": null,
            "_view_module_version": "1.5.0",
            "orientation": "horizontal",
            "min": 0,
            "description_tooltip": null,
            "_model_module": "@jupyter-widgets/controls",
            "layout": "IPY_MODEL_92f24aa3108a47eaa36dea1acab73379"
          }
        },
        "7e6475e4435f4a9694a04a4a3ca737f3": {
          "model_module": "@jupyter-widgets/controls",
          "model_name": "HTMLModel",
          "state": {
            "_view_name": "HTMLView",
            "style": "IPY_MODEL_0bb73adfb8374592a6b5be06083d0918",
            "_dom_classes": [],
            "description": "",
            "_model_name": "HTMLModel",
            "placeholder": "​",
            "_view_module": "@jupyter-widgets/controls",
            "_model_module_version": "1.5.0",
            "value": " 8192/? [00:00&lt;00:00, 29837.79it/s]",
            "_view_count": null,
            "_view_module_version": "1.5.0",
            "description_tooltip": null,
            "_model_module": "@jupyter-widgets/controls",
            "layout": "IPY_MODEL_e2e67db8bcb44ac988de9430de708aee"
          }
        },
        "7b79df1894ac4983b71a36bbe8d2d12d": {
          "model_module": "@jupyter-widgets/controls",
          "model_name": "ProgressStyleModel",
          "state": {
            "_view_name": "StyleView",
            "_model_name": "ProgressStyleModel",
            "description_width": "initial",
            "_view_module": "@jupyter-widgets/base",
            "_model_module_version": "1.5.0",
            "_view_count": null,
            "_view_module_version": "1.2.0",
            "bar_color": null,
            "_model_module": "@jupyter-widgets/controls"
          }
        },
        "92f24aa3108a47eaa36dea1acab73379": {
          "model_module": "@jupyter-widgets/base",
          "model_name": "LayoutModel",
          "state": {
            "_view_name": "LayoutView",
            "grid_template_rows": null,
            "right": null,
            "justify_content": null,
            "_view_module": "@jupyter-widgets/base",
            "overflow": null,
            "_model_module_version": "1.2.0",
            "_view_count": null,
            "flex_flow": null,
            "width": null,
            "min_width": null,
            "border": null,
            "align_items": null,
            "bottom": null,
            "_model_module": "@jupyter-widgets/base",
            "top": null,
            "grid_column": null,
            "overflow_y": null,
            "overflow_x": null,
            "grid_auto_flow": null,
            "grid_area": null,
            "grid_template_columns": null,
            "flex": null,
            "_model_name": "LayoutModel",
            "justify_items": null,
            "grid_row": null,
            "max_height": null,
            "align_content": null,
            "visibility": null,
            "align_self": null,
            "height": null,
            "min_height": null,
            "padding": null,
            "grid_auto_rows": null,
            "grid_gap": null,
            "max_width": null,
            "order": null,
            "_view_module_version": "1.2.0",
            "grid_template_areas": null,
            "object_position": null,
            "object_fit": null,
            "grid_auto_columns": null,
            "margin": null,
            "display": null,
            "left": null
          }
        },
        "0bb73adfb8374592a6b5be06083d0918": {
          "model_module": "@jupyter-widgets/controls",
          "model_name": "DescriptionStyleModel",
          "state": {
            "_view_name": "StyleView",
            "_model_name": "DescriptionStyleModel",
            "description_width": "",
            "_view_module": "@jupyter-widgets/base",
            "_model_module_version": "1.5.0",
            "_view_count": null,
            "_view_module_version": "1.2.0",
            "_model_module": "@jupyter-widgets/controls"
          }
        },
        "e2e67db8bcb44ac988de9430de708aee": {
          "model_module": "@jupyter-widgets/base",
          "model_name": "LayoutModel",
          "state": {
            "_view_name": "LayoutView",
            "grid_template_rows": null,
            "right": null,
            "justify_content": null,
            "_view_module": "@jupyter-widgets/base",
            "overflow": null,
            "_model_module_version": "1.2.0",
            "_view_count": null,
            "flex_flow": null,
            "width": null,
            "min_width": null,
            "border": null,
            "align_items": null,
            "bottom": null,
            "_model_module": "@jupyter-widgets/base",
            "top": null,
            "grid_column": null,
            "overflow_y": null,
            "overflow_x": null,
            "grid_auto_flow": null,
            "grid_area": null,
            "grid_template_columns": null,
            "flex": null,
            "_model_name": "LayoutModel",
            "justify_items": null,
            "grid_row": null,
            "max_height": null,
            "align_content": null,
            "visibility": null,
            "align_self": null,
            "height": null,
            "min_height": null,
            "padding": null,
            "grid_auto_rows": null,
            "grid_gap": null,
            "max_width": null,
            "order": null,
            "_view_module_version": "1.2.0",
            "grid_template_areas": null,
            "object_position": null,
            "object_fit": null,
            "grid_auto_columns": null,
            "margin": null,
            "display": null,
            "left": null
          }
        }
      }
    }
  },
  "cells": [
    {
      "cell_type": "markdown",
      "metadata": {
        "id": "Z6Rx7Q4nh6iy"
      },
      "source": [
        "# Clustering autoencoder\n",
        "This notebook:\n",
        "- loads MNIST dataset\n",
        "- define autoencoder\n",
        "- pre-train autoencoder on reconstruction loss\n",
        "- train autoencoder with also clustering losses"
      ]
    },
    {
      "cell_type": "code",
      "metadata": {
        "id": "MhraRsRLmfgs"
      },
      "source": [
        "import matplotlib.pyplot as plt\n",
        "import numpy as np\n",
        "\n",
        "import torch\n",
        "import torch.nn as nn\n",
        "import torch.optim as optim\n",
        "import torchvision\n",
        "\n",
        "from sklearn.cluster import KMeans\n",
        "from sklearn.decomposition import PCA\n",
        "from sklearn.manifold import TSNE\n",
        "from sklearn.manifold import MDS\n",
        "from sklearn.preprocessing import MinMaxScaler\n",
        "from sklearn.metrics import normalized_mutual_info_score, adjusted_rand_score\n",
        "import seaborn as sns\n",
        "import sklearn.metrics"
      ],
      "execution_count": 1,
      "outputs": []
    },
    {
      "cell_type": "code",
      "metadata": {
        "id": "xsMiSCNKs5Dm"
      },
      "source": [
        "def acc(y_true, y_pred):\n",
        "    \"\"\"\n",
        "    Calculate clustering accuracy. Require scikit-learn installed\n",
        "\n",
        "    # Arguments\n",
        "        y: true labels, numpy.array with shape `(n_samples,)`\n",
        "        y_pred: predicted labels, numpy.array with shape `(n_samples,)`\n",
        "\n",
        "    # Return\n",
        "        accuracy, in [0,1]\n",
        "    \"\"\"\n",
        "    y_true = y_true.astype(np.int64)\n",
        "    assert y_pred.size == y_true.size\n",
        "    D = max(y_pred.max(), y_true.max()) + 1\n",
        "    w = np.zeros((D, D), dtype=np.int64)\n",
        "    for i in range(y_pred.size):\n",
        "        w[y_pred[i], y_true[i]] += 1\n",
        "    from sklearn.utils.linear_assignment_ import linear_assignment\n",
        "    ind = linear_assignment(w.max() - w)\n",
        "    return sum([w[i, j] for i, j in ind]) * 1.0 / y_pred.size\n",
        "\n",
        "def plot_latent_space(encoded_images, labels, num_images_to_plot=1000):\n",
        "    \"\"\"\n",
        "    Plots high-dimensional(more than 2D) latent space\n",
        "    \"\"\"\n",
        "    # PCA\n",
        "    pca = PCA(n_components=2)\n",
        "    principal_components = pca.fit_transform(encoded_images[:num_images_to_plot])\n",
        "    plt.figure()\n",
        "    plt.scatter(principal_components[:, 0], principal_components[:, 1], c=labels[:num_images_to_plot])\n",
        "    plt.title(\"PCA\")\n",
        "    plt.colorbar()\n",
        "\n",
        "    # TSNE    \n",
        "    tsne = TSNE(n_components=2, verbose=0, perplexity=30, n_iter=3000)\n",
        "    tsne_pca_results = tsne.fit_transform(encoded_images[:num_images_to_plot])\n",
        "    plt.figure()\n",
        "    plt.scatter(tsne_pca_results[:,0], tsne_pca_results[:,1], c=labels[:num_images_to_plot])\n",
        "    plt.title(\"TSNE\")\n",
        "    plt.colorbar()\n",
        "\n",
        "    # MDS\n",
        "    scaler = MinMaxScaler()\n",
        "    X_scaled = scaler.fit_transform(encoded_images[:num_images_to_plot])\n",
        "    mds = MDS(2,random_state=0)\n",
        "    X_2d = mds.fit_transform(X_scaled)\n",
        "    plt.figure()\n",
        "    plt.scatter(X_2d[:,0], X_2d[:,1], c=labels[:num_images_to_plot])\n",
        "    plt.title(\"MDS\")\n",
        "    plt.colorbar()"
      ],
      "execution_count": 3,
      "outputs": []
    },
    {
      "cell_type": "markdown",
      "metadata": {
        "id": "c7Mag7dRmfgt"
      },
      "source": [
        "Set seed and other configurations for reproducibility."
      ]
    },
    {
      "cell_type": "code",
      "metadata": {
        "id": "sxNENRJ_mfgt"
      },
      "source": [
        "seed = 42\n",
        "torch.manual_seed(seed)\n",
        "torch.backends.cudnn.benchmark = False\n",
        "torch.backends.cudnn.deterministic = True"
      ],
      "execution_count": 4,
      "outputs": []
    },
    {
      "cell_type": "markdown",
      "metadata": {
        "id": "YN-RypkBmfgu"
      },
      "source": [
        "## Dataset\n",
        "\n",
        "Load MNIST dataset. "
      ]
    },
    {
      "cell_type": "code",
      "metadata": {
        "id": "f5s4N_OTmfgu",
        "colab": {
          "base_uri": "https://localhost:8080/",
          "height": 391,
          "referenced_widgets": [
            "cb83395713004a719fad56bb0ed90612",
            "3db9e9298e084540a11c537cbf273e86",
            "c37dca1647bb4afbafc94fbfcd7c1b1b",
            "f6ccb57beb6a4dad9145693f97fdc4fa",
            "3ca627c774a44149a2b02f545150ef92",
            "d097a57c27254b1eb11052cfc58abf22",
            "d9b36b8c0c964949a97b321500fd4a0e",
            "d5846eb73c92476b9b6097a90fc85d27",
            "3ef90837e5a142bda2509a20d877ed7e",
            "1513d976d47f4a37815564e6191550b8",
            "75d15e3e93804ae0a97323135b4a9b96",
            "b46a716ccc5f4694a5093b0b5ccce980",
            "546ea277a8914c4ca2a8235d2025984b",
            "16d3355fa527488cbd5b5bb232a4e26c",
            "33ea6a25b43f47cabe8fa4e8e9fad3d8",
            "4eca4c68a29d40de8c6c361184ae7a6b",
            "70fb60587c094696a0c16b7b8e30267a",
            "b40e7526c93c46caaef3fe75db690085",
            "933e9abc6d2946bc8790c5faadd501fd",
            "a0fbd83484184f568e31fc9b86a9a924",
            "d1566ad4cd6f4a3fa6c18e430902d9ca",
            "f7a8bcc6087e4e24a170b57b996f566a",
            "4b3dd22dd6ed42eb89aa396ed46284cf",
            "d66e7e9f1165497c84d01636c1f0dd7b",
            "f4a82b21aa7f433abf541599738650a7",
            "f089e3492fb14ff7a25aa895cb4359b0",
            "8a55faddea9a44458767e42acad960b6",
            "7e6475e4435f4a9694a04a4a3ca737f3",
            "7b79df1894ac4983b71a36bbe8d2d12d",
            "92f24aa3108a47eaa36dea1acab73379",
            "0bb73adfb8374592a6b5be06083d0918",
            "e2e67db8bcb44ac988de9430de708aee"
          ]
        },
        "outputId": "20398057-487e-48aa-c965-04abfc5e9afc"
      },
      "source": [
        "transform = torchvision.transforms.Compose([torchvision.transforms.ToTensor()])\n",
        "\n",
        "train_dataset = torchvision.datasets.MNIST(\n",
        "    root=\"~/torch_datasets\", train=True, transform=transform, download=True\n",
        ")\n",
        "\n",
        "train_loader = torch.utils.data.DataLoader(\n",
        "    train_dataset, batch_size=60000, shuffle=True\n",
        ")"
      ],
      "execution_count": 5,
      "outputs": [
        {
          "output_type": "stream",
          "text": [
            "Downloading http://yann.lecun.com/exdb/mnist/train-images-idx3-ubyte.gz to /root/torch_datasets/MNIST/raw/train-images-idx3-ubyte.gz\n"
          ],
          "name": "stdout"
        },
        {
          "output_type": "display_data",
          "data": {
            "application/vnd.jupyter.widget-view+json": {
              "model_id": "cb83395713004a719fad56bb0ed90612",
              "version_minor": 0,
              "version_major": 2
            },
            "text/plain": [
              "HBox(children=(FloatProgress(value=1.0, bar_style='info', max=1.0), HTML(value='')))"
            ]
          },
          "metadata": {
            "tags": []
          }
        },
        {
          "output_type": "stream",
          "text": [
            "Extracting /root/torch_datasets/MNIST/raw/train-images-idx3-ubyte.gz to /root/torch_datasets/MNIST/raw\n",
            "\n",
            "Downloading http://yann.lecun.com/exdb/mnist/train-labels-idx1-ubyte.gz to /root/torch_datasets/MNIST/raw/train-labels-idx1-ubyte.gz\n"
          ],
          "name": "stdout"
        },
        {
          "output_type": "display_data",
          "data": {
            "application/vnd.jupyter.widget-view+json": {
              "model_id": "3ef90837e5a142bda2509a20d877ed7e",
              "version_minor": 0,
              "version_major": 2
            },
            "text/plain": [
              "HBox(children=(FloatProgress(value=1.0, bar_style='info', max=1.0), HTML(value='')))"
            ]
          },
          "metadata": {
            "tags": []
          }
        },
        {
          "output_type": "stream",
          "text": [
            "Extracting /root/torch_datasets/MNIST/raw/train-labels-idx1-ubyte.gz to /root/torch_datasets/MNIST/raw\n",
            "Downloading http://yann.lecun.com/exdb/mnist/t10k-images-idx3-ubyte.gz to /root/torch_datasets/MNIST/raw/t10k-images-idx3-ubyte.gz\n"
          ],
          "name": "stdout"
        },
        {
          "output_type": "display_data",
          "data": {
            "application/vnd.jupyter.widget-view+json": {
              "model_id": "70fb60587c094696a0c16b7b8e30267a",
              "version_minor": 0,
              "version_major": 2
            },
            "text/plain": [
              "HBox(children=(FloatProgress(value=1.0, bar_style='info', max=1.0), HTML(value='')))"
            ]
          },
          "metadata": {
            "tags": []
          }
        },
        {
          "output_type": "stream",
          "text": [
            "Extracting /root/torch_datasets/MNIST/raw/t10k-images-idx3-ubyte.gz to /root/torch_datasets/MNIST/raw\n",
            "Downloading http://yann.lecun.com/exdb/mnist/t10k-labels-idx1-ubyte.gz to /root/torch_datasets/MNIST/raw/t10k-labels-idx1-ubyte.gz\n"
          ],
          "name": "stdout"
        },
        {
          "output_type": "display_data",
          "data": {
            "application/vnd.jupyter.widget-view+json": {
              "model_id": "f4a82b21aa7f433abf541599738650a7",
              "version_minor": 0,
              "version_major": 2
            },
            "text/plain": [
              "HBox(children=(FloatProgress(value=1.0, bar_style='info', max=1.0), HTML(value='')))"
            ]
          },
          "metadata": {
            "tags": []
          }
        },
        {
          "output_type": "stream",
          "text": [
            "Extracting /root/torch_datasets/MNIST/raw/t10k-labels-idx1-ubyte.gz to /root/torch_datasets/MNIST/raw\n",
            "Processing...\n",
            "Done!\n"
          ],
          "name": "stdout"
        },
        {
          "output_type": "stream",
          "text": [
            "/usr/local/lib/python3.6/dist-packages/torchvision/datasets/mnist.py:480: UserWarning: The given NumPy array is not writeable, and PyTorch does not support non-writeable tensors. This means you can write to the underlying (supposedly non-writeable) NumPy array using the tensor. You may want to copy the array to protect its data or make it writeable before converting it to a tensor. This type of warning will be suppressed for the rest of this program. (Triggered internally at  /pytorch/torch/csrc/utils/tensor_numpy.cpp:141.)\n",
            "  return torch.from_numpy(parsed.astype(m[2], copy=False)).view(*s)\n"
          ],
          "name": "stderr"
        }
      ]
    },
    {
      "cell_type": "markdown",
      "metadata": {
        "id": "RQP49MZLmfgu"
      },
      "source": [
        "## Autoencoder\n",
        "\n",
        "Define autoencoder class with fully connected layers for both its encoder and decoder components."
      ]
    },
    {
      "cell_type": "code",
      "metadata": {
        "id": "zj57M3Zhmfgu",
        "colab": {
          "base_uri": "https://localhost:8080/"
        },
        "outputId": "200ebb8a-de9c-469d-874f-b78f9f208286"
      },
      "source": [
        "class AE(nn.Module):\n",
        "    def __init__(self, **kwargs):\n",
        "        super().__init__()\n",
        "        h1 = 500\n",
        "        h2 = 64\n",
        "        latent = 10\n",
        "        self.encoder = nn.Sequential(\n",
        "            nn.Linear(kwargs[\"input_shape\"], h1),\n",
        "            nn.ReLU(),\n",
        "            nn.Linear(h1, h2),\n",
        "            nn.ReLU(),\n",
        "            nn.Linear(h2, latent),\n",
        "            nn.ReLU()\n",
        "        )\n",
        "        self.decoder = nn.Sequential(\n",
        "            nn.Linear(latent, h2),\n",
        "            nn.ReLU(),\n",
        "            nn.Linear(h2, h1),\n",
        "            nn.ReLU(),\n",
        "            nn.Linear(h1, kwargs[\"input_shape\"]),\n",
        "            nn.Sigmoid()\n",
        "        )\n",
        "\n",
        "    def forward(self, features):\n",
        "        code = self.encoder(features)\n",
        "        reconstructed = self.decoder(code)\n",
        "        return reconstructed, code"
      ],
      "execution_count": 6,
      "outputs": [
        {
          "output_type": "stream",
          "text": [
            "\n",
            "\n",
            "\n"
          ],
          "name": "stdout"
        }
      ]
    },
    {
      "cell_type": "markdown",
      "metadata": {
        "id": "sEBMMi9umfgu"
      },
      "source": [
        "Following steps:\n",
        "    1. Configure device on which to run on.\n",
        "    2. Instantiate an `AE` object.\n",
        "    3. Define optimizer.\n",
        "    4. Define reconstruction loss."
      ]
    },
    {
      "cell_type": "code",
      "metadata": {
        "colab": {
          "base_uri": "https://localhost:8080/"
        },
        "id": "YtVU2gy4mfgu",
        "outputId": "35f09c7f-1d4f-473d-c5fa-b4f4bf724050"
      },
      "source": [
        "learning_rate = 1e-3\n",
        "\n",
        "#  use gpu if available\n",
        "device = torch.device(\"cuda\" if torch.cuda.is_available() else \"cpu\")\n",
        "\n",
        "# create a model from `AE` autoencoder class\n",
        "# load it to the specified device, either gpu or cpu\n",
        "model = AE(input_shape=784).to(device)\n",
        "\n",
        "# create an optimizer object\n",
        "# Adam optimizer with learning rate 1e-3\n",
        "optimizer = optim.Adam(model.parameters(), lr=learning_rate)\n",
        "\n",
        "# mean-squared error loss\n",
        "criterion = nn.MSELoss()\n",
        "\n",
        "device"
      ],
      "execution_count": 7,
      "outputs": [
        {
          "output_type": "execute_result",
          "data": {
            "text/plain": [
              "device(type='cuda')"
            ]
          },
          "metadata": {
            "tags": []
          },
          "execution_count": 7
        }
      ]
    },
    {
      "cell_type": "markdown",
      "metadata": {
        "id": "NvTEb7IBh6jL"
      },
      "source": [
        "## Train only on reconstruction loss"
      ]
    },
    {
      "cell_type": "code",
      "metadata": {
        "colab": {
          "base_uri": "https://localhost:8080/"
        },
        "id": "zEVoc-_bmfgu",
        "outputId": "73e1d34c-557b-4bf0-e9f9-7a5bd7632650"
      },
      "source": [
        "batch_size = 512\n",
        "epochs = 40\n",
        "\n",
        "for epoch in range(epochs):\n",
        "    loss = 0\n",
        "    tot_recon_loss = 0\n",
        "    for images, labels in train_loader:\n",
        "        # reshape data to [N, 784] matrix\n",
        "        # load it to the active device\n",
        "        images = images.view(-1, 784).to(device)\n",
        "        \n",
        "        # take labels subset\n",
        "        images = images[labels < 5]\n",
        "        labels = labels[labels < 5]\n",
        "\n",
        "        for i in range(0, len(images), batch_size):\n",
        "            # reset the gradients back to zero\n",
        "            # PyTorch accumulates gradients on subsequent backward passes\n",
        "            optimizer.zero_grad()\n",
        "            \n",
        "            # compute encodings\n",
        "            outputs, z = model(images[i:i+batch_size])\n",
        "            \n",
        "            # compute training reconstruction loss\n",
        "            recon_loss = criterion(outputs, images[i:i+batch_size])\n",
        "            \n",
        "            total_loss = recon_loss\n",
        "\n",
        "            # compute accumulated gradients\n",
        "            total_loss.backward()\n",
        "            \n",
        "            # perform parameter update based on current gradients\n",
        "            optimizer.step()\n",
        "            \n",
        "            # add the mini-batch training loss to epoch loss\n",
        "            loss += total_loss.item()\n",
        "            \n",
        "        # compute the epoch training loss\n",
        "        loss = loss / len(images)\n",
        "    \n",
        "    # display the epoch training loss\n",
        "    print(\"epoch : {}/{}, recon loss = {:.8f}\".format(epoch + 1, epochs, loss))"
      ],
      "execution_count": 8,
      "outputs": [
        {
          "output_type": "stream",
          "text": [
            "epoch : 1/2, recon loss = 0.00018228\n",
            "epoch : 2/2, recon loss = 0.00011649\n"
          ],
          "name": "stdout"
        }
      ]
    },
    {
      "cell_type": "markdown",
      "metadata": {
        "id": "NM6EWt2c3isW"
      },
      "source": [
        "## Results on test set"
      ]
    },
    {
      "cell_type": "code",
      "metadata": {
        "id": "EgyEOhlYmfgx"
      },
      "source": [
        "test_dataset = torchvision.datasets.MNIST(\n",
        "    root=\"~/torch_datasets\", train=False, transform=transform, download=True\n",
        ")\n",
        "\n",
        "test_loader = torch.utils.data.DataLoader(\n",
        "    test_dataset, batch_size=20, shuffle=False\n",
        ")\n",
        "\n",
        "test_examples = None\n",
        "encoded_z = np.array([])\n",
        "labels = np.array([])\n",
        "first = True\n",
        "\n",
        "with torch.no_grad():\n",
        "    for batch_features in test_loader:\n",
        "        batch_labels = batch_features[1]\n",
        "        batch_features = batch_features[0]\n",
        "        test_examples = batch_features.view(-1, 784).to(device)\n",
        "        reconstruction, encoded = model(test_examples)\n",
        "        if first:\n",
        "            encoded_z = encoded.cpu().numpy()\n",
        "            labels = batch_labels.numpy()\n",
        "            first = False\n",
        "        else:\n",
        "            encoded_z = np.concatenate([encoded_z,encoded.cpu().numpy()], axis=0)\n",
        "            labels = np.concatenate([labels, batch_labels.numpy()], axis=0)"
      ],
      "execution_count": 9,
      "outputs": []
    },
    {
      "cell_type": "markdown",
      "metadata": {
        "id": "YoOIevMNmfgx"
      },
      "source": [
        "### Visualize Results\n",
        "\n",
        "Let's try to reconstruct some test images using our trained autoencoder."
      ]
    },
    {
      "cell_type": "code",
      "metadata": {
        "colab": {
          "base_uri": "https://localhost:8080/",
          "height": 248
        },
        "id": "D7_01TIwmfgx",
        "outputId": "16d957f8-8175-461f-fb5c-d94f1820e1b6"
      },
      "source": [
        "with torch.no_grad():\n",
        "    number = 10\n",
        "    plt.figure(figsize=(20, 4))\n",
        "    for index in range(number):\n",
        "        # display original\n",
        "        ax = plt.subplot(2, number, index + 1)\n",
        "        plt.imshow(test_examples[index].cpu().numpy().reshape(28, 28))\n",
        "        ax.get_xaxis().set_visible(False)\n",
        "        ax.get_yaxis().set_visible(False)\n",
        "\n",
        "        # display reconstruction\n",
        "        ax = plt.subplot(2, number, index + 1 + number)\n",
        "        plt.imshow(reconstruction[index].cpu().numpy().reshape(28, 28))\n",
        "        ax.get_xaxis().set_visible(False)\n",
        "        ax.get_yaxis().set_visible(False)\n",
        "    plt.show()"
      ],
      "execution_count": 10,
      "outputs": [
        {
          "output_type": "display_data",
          "data": {
            "image/png": "[encoded data removed]",
            "text/plain": [
              "<Figure size 1440x288 with 20 Axes>"
            ]
          },
          "metadata": {
            "tags": [],
            "needs_background": "light"
          }
        }
      ]
    },
    {
      "cell_type": "code",
      "metadata": {
        "colab": {
          "base_uri": "https://localhost:8080/",
          "height": 809
        },
        "id": "A-82oe-Gp2NJ",
        "outputId": "6ce301bc-5cf9-43cf-f19c-0bc34acba4a9"
      },
      "source": [
        "with torch.no_grad():\n",
        "    plot_latent_space(encoded_z.astype(np.float64), labels, 1000)"
      ],
      "execution_count": 11,
      "outputs": [
        {
          "output_type": "display_data",
          "data": {
            "image/png": "[encoded data removed]",
            "text/plain": [
              "<Figure size 432x288 with 2 Axes>"
            ]
          },
          "metadata": {
            "tags": [],
            "needs_background": "light"
          }
        },
        {
          "output_type": "display_data",
          "data": {
            "image/png": "[encoded data removed]",
            "text/plain": [
              "<Figure size 432x288 with 2 Axes>"
            ]
          },
          "metadata": {
            "tags": [],
            "needs_background": "light"
          }
        },
        {
          "output_type": "display_data",
          "data": {
            "image/png": "[encoded data removed]",
            "text/plain": [
              "<Figure size 432x288 with 2 Axes>"
            ]
          },
          "metadata": {
            "tags": [],
            "needs_background": "light"
          }
        }
      ]
    },
    {
      "cell_type": "code",
      "metadata": {
        "colab": {
          "base_uri": "https://localhost:8080/"
        },
        "id": "aoiCjvtfA7e-",
        "outputId": "03563c85-8a35-49d3-fba5-9183851318b7"
      },
      "source": [
        "# clustering\n",
        "kmodel = KMeans(n_clusters = 10, random_state=0) # random_state for rng seed \n",
        "kmodel = kmodel.fit(encoded_z)\n",
        "kpredictions = kmodel.predict(encoded_z)\n",
        "accuracy = np.round(acc(labels, kpredictions), 5)\n",
        "print('acc = %.5f' % (accuracy))"
      ],
      "execution_count": 13,
      "outputs": [
        {
          "output_type": "stream",
          "text": [
            "acc = 0.30670\n"
          ],
          "name": "stdout"
        },
        {
          "output_type": "stream",
          "text": [
            "/usr/local/lib/python3.6/dist-packages/sklearn/utils/linear_assignment_.py:128: FutureWarning: The linear_assignment function is deprecated in 0.21 and will be removed from 0.23. Use scipy.optimize.linear_sum_assignment instead.\n",
            "  FutureWarning)\n"
          ],
          "name": "stderr"
        }
      ]
    },
    {
      "cell_type": "markdown",
      "metadata": {
        "id": "LzO0lBIV7Zd8"
      },
      "source": [
        "## Training with also clustering losses"
      ]
    },
    {
      "cell_type": "code",
      "metadata": {
        "id": "CffHiTDMm-0B"
      },
      "source": [
        "def intra_cluster_loss(z_same):\n",
        "    dist = torch.cdist(z_same, z_same)\n",
        "    dist = torch.mean(dist,dim=1)\n",
        "    loss = torch.sum(dist)\n",
        "    loss = torch.div(loss, z_same.shape[0])\n",
        "    return loss\n",
        "\n",
        "def inter_cluster_loss(z_same, z_diff):\n",
        "    dist = torch.cdist(z_diff, z_same)\n",
        "    dist = torch.mean(dist,dim=1)\n",
        "    loss = torch.sum(dist)\n",
        "    loss = torch.div(loss, z_diff.shape[0])\n",
        "    return loss"
      ],
      "execution_count": 14,
      "outputs": []
    },
    {
      "cell_type": "code",
      "metadata": {
        "colab": {
          "base_uri": "https://localhost:8080/"
        },
        "id": "fThMQKPp0Ai7",
        "outputId": "6a436d96-738d-4dab-9a87-69c36499c8b2"
      },
      "source": [
        "epochs = 100\n",
        "\n",
        "for epoch in range(epochs):\n",
        "    loss = 0\n",
        "    tot_recon_loss = 0\n",
        "    tot_intra_loss = 0\n",
        "    tot_inter_loss = 0\n",
        "    for images, labels in train_loader:\n",
        "        # reshape data to [N, 784] matrix\n",
        "        # load it to the active device\n",
        "        images = images.view(-1, 784).to(device)\n",
        "        z = np.array([])\n",
        "        # take labels subset\n",
        "        images = images[labels < 5]\n",
        "        labels = labels[labels < 5]\n",
        "        \n",
        "        for i in range(5): # iter on labels\n",
        "            # reset the gradients back to zero\n",
        "            # PyTorch accumulates gradients on subsequent backward passes\n",
        "            optimizer.zero_grad()\n",
        "            label = i\n",
        "\n",
        "            # compute encodings\n",
        "            outputs, z = model(images)\n",
        "            \n",
        "            # partition encodings and images by label\n",
        "            z_same = z[labels == label]\n",
        "            z_diff = z[labels != label]\n",
        "            outputs_same = outputs[labels == label]\n",
        "            images_same = images[labels == label]\n",
        "\n",
        "            # compute training reconstruction loss\n",
        "            recon_loss = criterion(outputs_same, images_same)\n",
        "            intra_loss = intra_cluster_loss(z_same)\n",
        "            inter_loss = inter_cluster_loss(z_same, z_diff) \n",
        "            \n",
        "            inter_loss_weight = intra_loss.item() / inter_loss.item()\n",
        "            alpha = 0.99\n",
        "\n",
        "            total_loss = alpha * recon_loss + (1 - alpha) * (intra_loss - inter_loss_weight * inter_loss)\n",
        "            \n",
        "            # compute accumulated gradients\n",
        "            total_loss.backward()\n",
        "            \n",
        "            # perform parameter update based on current gradients\n",
        "            optimizer.step()\n",
        "            \n",
        "            # add the mini-batch training loss to epoch loss\n",
        "            loss += total_loss.item()\n",
        "            tot_recon_loss += recon_loss.item()\n",
        "            tot_intra_loss += intra_loss.item()\n",
        "            tot_inter_loss += inter_loss.item()\n",
        "\n",
        "        # compute the epoch training loss\n",
        "        loss = loss / len(images)\n",
        "        tot_recon_loss = tot_recon_loss / len(images)\n",
        "        tot_intra_loss = tot_intra_loss / len(images)\n",
        "        tot_inter_loss = tot_inter_loss / len(images)\n",
        "        print(\"Epoch : {}/{}, total loss = {:.8f}, recon loss = {:.8f}, intra loss = {:.8f}, inter loss = {:.8f}\".format(epoch, epochs, loss, tot_recon_loss, tot_intra_loss, tot_inter_loss))"
      ],
      "execution_count": 15,
      "outputs": [
        {
          "output_type": "stream",
          "text": [
            "Epoch : 0/3, total loss = 0.00000859, recon loss = 0.00000867, intra loss = 0.00097144, inter loss = 0.00164114\n",
            "Epoch : 1/3, total loss = 0.00000861, recon loss = 0.00000870, intra loss = 0.00088937, inter loss = 0.00177737\n",
            "Epoch : 2/3, total loss = 0.00000893, recon loss = 0.00000902, intra loss = 0.00078796, inter loss = 0.00184669\n"
          ],
          "name": "stdout"
        }
      ]
    },
    {
      "cell_type": "code",
      "metadata": {
        "id": "8fb3NzKhBxGq"
      },
      "source": [
        "z = 0\n",
        "labels = 0\n",
        "with torch.no_grad():\n",
        "    for images, labels in train_loader:\n",
        "        images = images.view(-1, 784).to(device)\n",
        "        \n",
        "        # NOTE: if you want to see results on training \"categories\" just put \"<\" instead of \">=\"\n",
        "        images = images[labels >= 5]\n",
        "        labels = labels[labels >= 5]\n",
        "        \n",
        "        _, z = model(images)\n",
        "        z = z.cpu()"
      ],
      "execution_count": 16,
      "outputs": []
    },
    {
      "cell_type": "code",
      "metadata": {
        "colab": {
          "base_uri": "https://localhost:8080/"
        },
        "id": "KaqlbbPSBp9o",
        "outputId": "dece5eb9-bd6a-43c6-a6f8-7532f7b73496"
      },
      "source": [
        "# clustering\n",
        "kmodel = KMeans(n_clusters = 10, random_state=0) # random_state for rng seed \n",
        "kmodel = kmodel.fit(z)\n",
        "kpredictions = kmodel.predict(z)\n",
        "accuracy = np.round(acc(labels.cpu().numpy(), kpredictions), 5)\n",
        "print('acc = %.5f' % (accuracy))"
      ],
      "execution_count": 17,
      "outputs": [
        {
          "output_type": "stream",
          "text": [
            "acc = 0.27323\n"
          ],
          "name": "stdout"
        },
        {
          "output_type": "stream",
          "text": [
            "/usr/local/lib/python3.6/dist-packages/sklearn/utils/linear_assignment_.py:128: FutureWarning: The linear_assignment function is deprecated in 0.21 and will be removed from 0.23. Use scipy.optimize.linear_sum_assignment instead.\n",
            "  FutureWarning)\n"
          ],
          "name": "stderr"
        }
      ]
    },
    {
      "cell_type": "markdown",
      "metadata": {
        "id": "56ACirK3BEsa"
      },
      "source": [
        "## Results on test set"
      ]
    },
    {
      "cell_type": "code",
      "metadata": {
        "id": "ga2ur1J-kz4y"
      },
      "source": [
        "test_dataset = torchvision.datasets.MNIST(\n",
        "    root=\"~/torch_datasets\", train=False, transform=transform, download=True\n",
        ")\n",
        "\n",
        "test_loader = torch.utils.data.DataLoader(\n",
        "    test_dataset, batch_size=10000, shuffle=False\n",
        ")\n",
        "\n",
        "encoded_z = np.array([])\n",
        "labels = np.array([])\n",
        "\n",
        "with torch.no_grad():\n",
        "    for images, labels in test_loader:\n",
        "        images = images.view(-1, 784).to(device)\n",
        "\n",
        "        # take labels subset\n",
        "        images = images[labels >= 5]\n",
        "        labels = labels[labels >= 5]\n",
        "\n",
        "        reconstruction, encoded = model(images)\n",
        "        encoded_z = encoded.cpu().numpy()"
      ],
      "execution_count": 19,
      "outputs": []
    },
    {
      "cell_type": "markdown",
      "metadata": {
        "id": "sV3CwTQWkz40"
      },
      "source": [
        "### Visualize Results\n",
        "\n",
        "Let's try to reconstruct some test images using our trained autoencoder."
      ]
    },
    {
      "cell_type": "code",
      "metadata": {
        "colab": {
          "base_uri": "https://localhost:8080/",
          "height": 248
        },
        "id": "ooyEw-JVkz41",
        "outputId": "d53b2499-9485-4fee-fbe6-ead538889d46"
      },
      "source": [
        "with torch.no_grad():\n",
        "    number = 10\n",
        "    plt.figure(figsize=(20, 4))\n",
        "    for index in range(number):\n",
        "        # display original\n",
        "        ax = plt.subplot(2, number, index + 1)\n",
        "        plt.imshow(images[index].cpu().numpy().reshape(28, 28))\n",
        "        ax.get_xaxis().set_visible(False)\n",
        "        ax.get_yaxis().set_visible(False)\n",
        "\n",
        "        # display reconstruction\n",
        "        ax = plt.subplot(2, number, index + 1 + number)\n",
        "        plt.imshow(reconstruction[index].cpu().numpy().reshape(28, 28))\n",
        "        ax.get_xaxis().set_visible(False)\n",
        "        ax.get_yaxis().set_visible(False)\n",
        "    plt.show()"
      ],
      "execution_count": 20,
      "outputs": [
        {
          "output_type": "display_data",
          "data": {
            "image/png": "[encoded data removed]",
            "text/plain": [
              "<Figure size 1440x288 with 20 Axes>"
            ]
          },
          "metadata": {
            "tags": [],
            "needs_background": "light"
          }
        }
      ]
    }
  ]
}